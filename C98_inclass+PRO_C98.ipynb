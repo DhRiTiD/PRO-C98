{
  "nbformat": 4,
  "nbformat_minor": 0,
  "metadata": {
    "colab": {
      "provenance": [],
      "authorship_tag": "ABX9TyOIyGyACMRu4j218qeKP5V+"
    },
    "kernelspec": {
      "name": "python3",
      "display_name": "Python 3"
    },
    "language_info": {
      "name": "python"
    }
  },
  "cells": [
    {
      "cell_type": "code",
      "execution_count": 16,
      "metadata": {
        "colab": {
          "base_uri": "https://localhost:8080/"
        },
        "id": "mNi5FRqv5R5W",
        "outputId": "31c0f0fb-5632-448a-a3fb-1a481307c377"
      },
      "outputs": [
        {
          "output_type": "stream",
          "name": "stdout",
          "text": [
            "<class 'list'>\n",
            "4\n",
            "[28, 50]\n"
          ]
        }
      ],
      "source": [
        "L=[28,50,'lb', 8.5]\n",
        "print(type(L))\n",
        "print(len(L))\n",
        "print(L[:-2])"
      ]
    },
    {
      "cell_type": "code",
      "source": [
        "for i in L:\n",
        "  print(i)"
      ],
      "metadata": {
        "colab": {
          "base_uri": "https://localhost:8080/"
        },
        "id": "t00pTPSVAJh4",
        "outputId": "f77a1c1e-06c7-4430-ba63-93b5a483b4c4"
      },
      "execution_count": 19,
      "outputs": [
        {
          "output_type": "stream",
          "name": "stdout",
          "text": [
            "28\n",
            "50\n",
            "lb\n",
            "8.5\n"
          ]
        }
      ]
    },
    {
      "cell_type": "code",
      "source": [
        "#for j in range(11,1,-3):\n",
        "#  print(j)\n",
        "\n",
        "for k in range(5,1):\n",
        "  print(k)\n",
        "\n",
        "print(range(11,1,-3))"
      ],
      "metadata": {
        "colab": {
          "base_uri": "https://localhost:8080/"
        },
        "id": "MyDJJkuHAmvM",
        "outputId": "52a7469d-67b0-4bd5-81ca-460a69c7d46c"
      },
      "execution_count": 49,
      "outputs": [
        {
          "output_type": "stream",
          "name": "stdout",
          "text": [
            "range(11, 1, -3)\n"
          ]
        }
      ]
    },
    {
      "cell_type": "markdown",
      "source": [
        "**Q**\n",
        "count the occurance of a number in a list:"
      ],
      "metadata": {
        "id": "ce_edXxLCt8p"
      }
    },
    {
      "cell_type": "code",
      "source": [
        "List1=[1,2,4,3,5,2,4,6,1,3,5,3,8,0,0,3,2]\n",
        "\n",
        "c=0\n",
        "n=int(input('enter no. to search'))\n",
        "\n",
        "for i in List1 : \n",
        "  if i==n :\n",
        "    c=c+1\n",
        "print('no. of', n ,':', c)"
      ],
      "metadata": {
        "colab": {
          "base_uri": "https://localhost:8080/"
        },
        "id": "_EyZqIK3BlSd",
        "outputId": "1588ca4c-015a-403c-c0d5-076bf24bad03"
      },
      "execution_count": 34,
      "outputs": [
        {
          "output_type": "stream",
          "name": "stdout",
          "text": [
            "enter no. to search8\n",
            "no. of 8 : 1\n"
          ]
        }
      ]
    },
    {
      "cell_type": "code",
      "source": [
        "T=(123, 5.2, 'dhriti')\n",
        "print(T[0:2])\n",
        "l2=[5,4,3,2,1]\n",
        "\n",
        "l2[0]=l2[0] + 2\n",
        "print(l2)\n",
        "\n",
        "#T[0] = 321 tuple is immutable\n",
        "#print(T)"
      ],
      "metadata": {
        "colab": {
          "base_uri": "https://localhost:8080/"
        },
        "id": "XfKe5HZpC4Cy",
        "outputId": "d565a81e-e8cd-4275-ca4f-a0e8f16b8b83"
      },
      "execution_count": 45,
      "outputs": [
        {
          "output_type": "stream",
          "name": "stdout",
          "text": [
            "(123, 5.2)\n",
            "[7, 4, 3, 2, 1]\n"
          ]
        }
      ]
    },
    {
      "cell_type": "markdown",
      "source": [
        "# **PRO-C98**\n",
        "**Q** create a python program in which the user enters a number along with the lower and upper range limit to find all numbers divisible by an entered number."
      ],
      "metadata": {
        "id": "Lu6XFG1PFUi3"
      }
    },
    {
      "cell_type": "code",
      "source": [
        "l=int(input('enter lower limit: '))\n",
        "u=int(input('enter upper limit: '))\n",
        "n=int(input('enter the number to divide by: '))\n",
        "\n",
        "for i in range(l,u):\n",
        "  if i%n==0 :\n",
        "    print(i)\n"
      ],
      "metadata": {
        "colab": {
          "base_uri": "https://localhost:8080/"
        },
        "id": "D49WYwIlEqgE",
        "outputId": "fdb465bd-df80-42bb-c3d6-445693ed6abf"
      },
      "execution_count": 46,
      "outputs": [
        {
          "output_type": "stream",
          "name": "stdout",
          "text": [
            "enter lower limit: 4\n",
            "enter upper limit: 17\n",
            "enter the number to divide by: 2\n",
            "4\n",
            "6\n",
            "8\n",
            "10\n",
            "12\n",
            "14\n",
            "16\n"
          ]
        }
      ]
    }
  ]
}